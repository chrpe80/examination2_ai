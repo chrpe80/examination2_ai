{
 "cells": [
  {
   "cell_type": "code",
   "execution_count": 1,
   "id": "initial_id",
   "metadata": {
    "collapsed": true,
    "ExecuteTime": {
     "end_time": "2024-02-15T14:28:32.749167100Z",
     "start_time": "2024-02-15T14:28:31.023370Z"
    }
   },
   "outputs": [],
   "source": [
    "from langchain_openai import ChatOpenAI\n",
    "from langchain.chains import LLMChain, SequentialChain\n",
    "from langchain.prompts import ChatPromptTemplate, MessagesPlaceholder\n",
    "from openai import OpenAI\n",
    "from langchain.tools import tool\n",
    "from langchain.agents import create_openai_functions_agent, AgentExecutor\n",
    "from langchain_community.utilities import SerpAPIWrapper\n",
    "from langchain_core.messages import HumanMessage, SystemMessage\n",
    "import tt"
   ]
  },
  {
   "cell_type": "markdown",
   "source": [
    "# 1"
   ],
   "metadata": {
    "collapsed": false
   },
   "id": "517b4011a5cf136d"
  },
  {
   "cell_type": "code",
   "outputs": [],
   "source": [
    "class CreateMarketingContent:\n",
    "    \"\"\"Creates content for LinkedIn Marketing\"\"\"\n",
    "\n",
    "    def __init__(self, subject):\n",
    "        self.llm = ChatOpenAI(temperature=0, model=\"gpt-3.5-turbo-0125\")\n",
    "        self.subject = subject\n",
    "        self.llm_chains = []\n",
    "\n",
    "    def get_information_about_company(self):\n",
    "        information = f\"\"\"\n",
    "* Learn2Earn AB is a leading training company specializing in IT, cloud solutions, architecture, ML and AI training\n",
    "* They provide students with cutting-edge knowledge and skills essential for success in the tech world\n",
    "* They have a new course that has just been released\n",
    "* The subject of the new course is: {self.subject}\n",
    "* You are the company social media manager, responsible for advertising the course on LinkedIn\n",
    "* Your task is to create a single image ad\n",
    "* It's important that the ad conveys that the company is extremely professional and trustworthy\n",
    "* You will create a title, a subtitle, and a description for the ad\n",
    "\"\"\"\n",
    "        return information\n",
    "\n",
    "    @staticmethod\n",
    "    def create_template(text):\n",
    "        template = text\n",
    "        return template\n",
    "\n",
    "    @staticmethod\n",
    "    def create_prompt(template):\n",
    "        prompt = ChatPromptTemplate.from_template(template)\n",
    "        return prompt\n",
    "\n",
    "    def create_llm_chain(self, prompt, output_key):\n",
    "        chain = LLMChain(llm=self.llm, prompt=prompt, output_key=output_key)\n",
    "        self.llm_chains.append(chain)\n",
    "\n",
    "    def create_sequential_chain(self):\n",
    "        sequential_chain = SequentialChain(\n",
    "            chains=self.llm_chains,\n",
    "            input_variables=[\"information\"],\n",
    "            output_variables=[\"title\", \"subtitle\", \"description\", \"additional_recommendations\"]\n",
    "        )\n",
    "\n",
    "        information = self.get_information_about_company()\n",
    "        result = sequential_chain(information)\n",
    "        return result\n",
    "\n",
    "    def create_background_image(self):\n",
    "        client = OpenAI()\n",
    "        prompt = f\"Create an image that is perfect as background for an ad about a course on {self.subject}\"\n",
    "        response = client.images.generate(\n",
    "            model=\"dall-e-3\",\n",
    "            prompt=prompt,\n",
    "            size=\"1024x1024\",\n",
    "            quality=\"hd\",\n",
    "            style=\"natural\"\n",
    "        )\n",
    "\n",
    "        return response\n",
    "\n",
    "    @staticmethod\n",
    "    def print_results(result):\n",
    "        print(f\"Title:\\n{result['title']}\\n\")\n",
    "        print(f\"Subtitle:\\n{result['subtitle']}\\n\")\n",
    "        print(f\"Description:\\n{result['description']}\\n\")\n",
    "        print(f\"Additional Recommendations:\\n{result['additional_recommendations']}\\n\")\n",
    "\n",
    "    def run(self):\n",
    "        template1 = self.create_template(tt.tt1)\n",
    "        prompt1 = self.create_prompt(template1)\n",
    "        self.create_llm_chain(prompt=prompt1, output_key=\"title\")\n",
    "\n",
    "        template2 = self.create_template(tt.tt2)\n",
    "        prompt2 = self.create_prompt(template2)\n",
    "        self.create_llm_chain(prompt=prompt2, output_key=\"subtitle\")\n",
    "\n",
    "        template3 = self.create_template(tt.tt3)\n",
    "        prompt3 = self.create_prompt(template3)\n",
    "        self.create_llm_chain(prompt=prompt3, output_key=\"description\")\n",
    "\n",
    "        template4 = self.create_template(tt.tt4)\n",
    "        prompt4 = ChatPromptTemplate.from_template(template4)\n",
    "        self.create_llm_chain(prompt=prompt4, output_key=\"additional_recommendations\")\n",
    "\n",
    "        result = self.create_sequential_chain()\n",
    "\n",
    "        return result\n"
   ],
   "metadata": {
    "collapsed": false,
    "ExecuteTime": {
     "end_time": "2024-02-15T14:28:32.758809600Z",
     "start_time": "2024-02-15T14:28:32.752167800Z"
    }
   },
   "id": "38b3ac3e992b19f0",
   "execution_count": 2
  },
  {
   "cell_type": "markdown",
   "source": [
    "# 2"
   ],
   "metadata": {
    "collapsed": false
   },
   "id": "78b5fc039a93ac29"
  },
  {
   "cell_type": "code",
   "outputs": [],
   "source": [
    "@tool\n",
    "def web_searcher(query: str) -> str:\n",
    "    \"\"\"Takes a query, performs a web search and returns the search result\"\"\"\n",
    "\n",
    "    search = SerpAPIWrapper(search_engine=\"google\")\n",
    "    search_result = search.run(query)\n",
    "\n",
    "    return search_result"
   ],
   "metadata": {
    "collapsed": false,
    "ExecuteTime": {
     "end_time": "2024-02-15T14:28:32.766312100Z",
     "start_time": "2024-02-15T14:28:32.757809900Z"
    }
   },
   "id": "6032bb648372cb66",
   "execution_count": 3
  },
  {
   "cell_type": "code",
   "outputs": [],
   "source": [
    "def generate_title(subject: str, topics: str) -> str:\n",
    "    \"\"\"The function generates a title for a course\"\"\"\n",
    "\n",
    "    system_message = (\"system\", f\"You are a very powerful assistant\")\n",
    "    user_message = (\"user\",\n",
    "                    \"Create a title for a course about {subject} that covers {topics}. Use the web_searcher_tool for inspiration\")\n",
    "\n",
    "    llm = ChatOpenAI(model=\"gpt-3.5-turbo\", temperature=1)\n",
    "    tools = [web_searcher]\n",
    "    prompt = ChatPromptTemplate.from_messages(\n",
    "        [system_message, user_message, MessagesPlaceholder(variable_name=\"agent_scratchpad\")])\n",
    "\n",
    "    agent = create_openai_functions_agent(llm, tools, prompt)\n",
    "    agent_executor = AgentExecutor(agent=agent, tools=tools)\n",
    "\n",
    "    query_result = agent_executor.invoke({\"subject\": subject, \"topics\": topics})\n",
    "\n",
    "    return query_result[\"output\"]\n"
   ],
   "metadata": {
    "collapsed": false,
    "ExecuteTime": {
     "end_time": "2024-02-15T14:28:32.773575200Z",
     "start_time": "2024-02-15T14:28:32.767313500Z"
    }
   },
   "id": "60b4465d32922216",
   "execution_count": 4
  },
  {
   "cell_type": "code",
   "outputs": [],
   "source": [
    "# subject = \"Python basics\"\n",
    "# topics = \"intro, variables, print statement, conditional statements, iterations, functions, oop\"\n",
    "# r = generate_title(subject, topics)\n",
    "# print(r)"
   ],
   "metadata": {
    "collapsed": false,
    "ExecuteTime": {
     "end_time": "2024-02-15T14:28:32.793663900Z",
     "start_time": "2024-02-15T14:28:32.773575200Z"
    }
   },
   "id": "63730b2dccf4fbb6",
   "execution_count": 5
  },
  {
   "cell_type": "markdown",
   "source": [
    "# 3"
   ],
   "metadata": {
    "collapsed": false
   },
   "id": "e5bb0500f13e32fc"
  },
  {
   "cell_type": "code",
   "outputs": [],
   "source": [
    "def generate_outline_course(subject: str, topics: str) -> str:\n",
    "    \"\"\"The function generates an outline for a course\"\"\"\n",
    "\n",
    "    system_message = (\"system\", f\"You are a very skilled curriculum designer\")\n",
    "    user_message = (\"user\",\n",
    "                    \"Create an outline for a course with the title {subject} that covers {topics}. The course is for professional programmers but with no experience in {subject}. Use the web_searcher tool for inspiration\")\n",
    "\n",
    "    llm = ChatOpenAI(model=\"gpt-3.5-turbo\", temperature=1)\n",
    "    tools = [web_searcher]\n",
    "    prompt = ChatPromptTemplate.from_messages(\n",
    "        [system_message, user_message, MessagesPlaceholder(variable_name=\"agent_scratchpad\")])\n",
    "\n",
    "    agent = create_openai_functions_agent(llm, tools, prompt)\n",
    "    agent_executor = AgentExecutor(agent=agent, tools=tools)\n",
    "\n",
    "    result = agent_executor.invoke({\"subject\": subject, \"topics\": topics})\n",
    "\n",
    "    return result[\"output\"]"
   ],
   "metadata": {
    "collapsed": false,
    "ExecuteTime": {
     "end_time": "2024-02-15T14:28:32.794500300Z",
     "start_time": "2024-02-15T14:28:32.779738800Z"
    }
   },
   "id": "c648fe453999099",
   "execution_count": 6
  },
  {
   "cell_type": "code",
   "outputs": [],
   "source": [
    "# subject = \"Python basics\"\n",
    "# topics = \"intro, variables, print statement, conditional statements, iterations, functions, oop\"\n",
    "# r = generate_outline_course(subject, topics)\n",
    "# print(r)"
   ],
   "metadata": {
    "collapsed": false,
    "ExecuteTime": {
     "end_time": "2024-02-15T14:28:32.795509800Z",
     "start_time": "2024-02-15T14:28:32.785184600Z"
    }
   },
   "id": "15efa19b50a843af",
   "execution_count": 7
  },
  {
   "cell_type": "markdown",
   "source": [
    "# 4"
   ],
   "metadata": {
    "collapsed": false
   },
   "id": "8952eb3406d2ae33"
  },
  {
   "cell_type": "code",
   "outputs": [],
   "source": [
    "def generate_outline_course_non_tech(subject: str, topics: str) -> str:\n",
    "    \"\"\"The function generates an outline for a course\"\"\"\n",
    "\n",
    "    system_message = (\"system\", f\"You are a very skilled curriculum designer\")\n",
    "    user_message = (\"user\",\n",
    "                    \"Create an outline for a course with the title {subject} that covers {topics}. The course is for non tech people. Use the web_searcher tool for inspiration\")\n",
    "\n",
    "    llm = ChatOpenAI(model=\"gpt-3.5-turbo\", temperature=1)\n",
    "    tools = [web_searcher]\n",
    "    prompt = ChatPromptTemplate.from_messages(\n",
    "        [system_message, user_message, MessagesPlaceholder(variable_name=\"agent_scratchpad\")])\n",
    "\n",
    "    agent = create_openai_functions_agent(llm, tools, prompt)\n",
    "    agent_executor = AgentExecutor(agent=agent, tools=tools)\n",
    "\n",
    "    result = agent_executor.invoke({\"subject\": subject, \"topics\": topics})\n",
    "\n",
    "    return result[\"output\"]"
   ],
   "metadata": {
    "collapsed": false,
    "ExecuteTime": {
     "end_time": "2024-02-15T14:28:32.796520Z",
     "start_time": "2024-02-15T14:28:32.789698600Z"
    }
   },
   "id": "f02e1745ff288b55",
   "execution_count": 8
  },
  {
   "cell_type": "code",
   "outputs": [],
   "source": [
    "# subject = \"Python basics\"\n",
    "# topics = \"intro, variables, print statement, conditional statements, iterations, functions, oop\"\n",
    "# r = generate_outline_course_non_tech(subject, topics)\n",
    "# print(r)"
   ],
   "metadata": {
    "collapsed": false,
    "ExecuteTime": {
     "end_time": "2024-02-15T14:28:32.797524200Z",
     "start_time": "2024-02-15T14:28:32.793992800Z"
    }
   },
   "id": "509bd17ba445552d",
   "execution_count": 9
  },
  {
   "cell_type": "markdown",
   "source": [
    "# 5"
   ],
   "metadata": {
    "collapsed": false
   },
   "id": "edb552b6e723eb19"
  },
  {
   "cell_type": "code",
   "outputs": [],
   "source": [
    "def create_exercises(subject: str):\n",
    "    model = ChatOpenAI(model=\"gpt-3.5-turbo\")\n",
    "    system_message = \"You are a skilled Python developer and you have been teaching Python for many years\"\n",
    "    human_message = f\"Give me 5 {subject} exercises\"\n",
    "    messages = [\n",
    "        SystemMessage(content=system_message),\n",
    "        HumanMessage(content=human_message)\n",
    "    ]\n",
    "\n",
    "    response = model.invoke(messages, temperature=0)\n",
    "\n",
    "    return response.content"
   ],
   "metadata": {
    "collapsed": false,
    "ExecuteTime": {
     "end_time": "2024-02-15T14:28:32.826534300Z",
     "start_time": "2024-02-15T14:28:32.798518100Z"
    }
   },
   "id": "33bf6d8a1dc28be6",
   "execution_count": 10
  },
  {
   "cell_type": "code",
   "outputs": [],
   "source": [
    "# r = create_exercises(\"dictionaries\")\n",
    "# print(r)"
   ],
   "metadata": {
    "collapsed": false,
    "ExecuteTime": {
     "end_time": "2024-02-15T14:28:32.827567900Z",
     "start_time": "2024-02-15T14:28:32.803428500Z"
    }
   },
   "id": "81a9d444e95031b7",
   "execution_count": 11
  }
 ],
 "metadata": {
  "kernelspec": {
   "display_name": "Python 3",
   "language": "python",
   "name": "python3"
  },
  "language_info": {
   "codemirror_mode": {
    "name": "ipython",
    "version": 2
   },
   "file_extension": ".py",
   "mimetype": "text/x-python",
   "name": "python",
   "nbconvert_exporter": "python",
   "pygments_lexer": "ipython2",
   "version": "2.7.6"
  }
 },
 "nbformat": 4,
 "nbformat_minor": 5
}
